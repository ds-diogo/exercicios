{
 "cells": [
  {
   "cell_type": "code",
   "execution_count": 13,
   "metadata": {},
   "outputs": [],
   "source": [
    "import numpy as np"
   ]
  },
  {
   "cell_type": "markdown",
   "metadata": {},
   "source": [
    "1) Escreva um programa que mostre na tela a mensagem \"Olá, Mundo!\""
   ]
  },
  {
   "cell_type": "code",
   "execution_count": 2,
   "metadata": {},
   "outputs": [
    {
     "name": "stdout",
     "output_type": "stream",
     "text": [
      "Hello, world!\n"
     ]
    }
   ],
   "source": [
    "print('Hello, world!')"
   ]
  },
  {
   "cell_type": "markdown",
   "metadata": {},
   "source": [
    "2) Faça um programa que leia o nome de uma pessoa e mostre uma mensagem de boas vindas para ela:  \n",
    "Ex:  \n",
    "Qual é o seu nome? João da Silva  \n",
    "Olá João da Silva, é um prazer te conhecer!  "
   ]
  },
  {
   "cell_type": "code",
   "execution_count": 5,
   "metadata": {},
   "outputs": [
    {
     "name": "stdout",
     "output_type": "stream",
     "text": [
      "Olá João da Silva, é um prazer te conhecer!\n"
     ]
    }
   ],
   "source": [
    "input(\"What's your name?\")\n",
    "print('Olá João da Silva, é um prazer te conhecer!')"
   ]
  },
  {
   "cell_type": "markdown",
   "metadata": {},
   "source": [
    "3) Crie um programa que leia o nome e o salário de um funcionário, mostrando no final uma mensagem.  \n",
    "Ex:  \n",
    "Nome do Funcionário: Maria do Carmo  \n",
    "Salário: 1850,45  \n",
    "O funcionário Maria do Carmo tem um salário de R$1850,45 em Junho.  "
   ]
  },
  {
   "cell_type": "code",
   "execution_count": 6,
   "metadata": {},
   "outputs": [
    {
     "name": "stdout",
     "output_type": "stream",
     "text": [
      "The employer is Maria do Carmo has a salary of 2500,00 in June\n"
     ]
    }
   ],
   "source": [
    "name = input('Input your name:')\n",
    "salary = input('Input your salary:')\n",
    "print(f'The employer is {name} has a salary of {salary} in June')"
   ]
  },
  {
   "cell_type": "markdown",
   "metadata": {},
   "source": [
    "4) Desenvolva um algoritmo que leia dois números inteiros e mostre o somatório entre eles.  \n",
    "Ex:  \n",
    "Digite um valor: 8  \n",
    "Digite outro valor: 5  \n",
    "A soma entre 8 e 5 é igual a 13.  "
   ]
  },
  {
   "cell_type": "code",
   "execution_count": 12,
   "metadata": {},
   "outputs": [
    {
     "name": "stdout",
     "output_type": "stream",
     "text": [
      "The sum of 8 and 5 is 13\n"
     ]
    }
   ],
   "source": [
    "number_one = int(input('Input a number:'))\n",
    "number_two = int(input('Input another number:'))\n",
    "result = number_one + number_two\n",
    "\n",
    "print(f'The sum of {number_one} and {number_two} is {result}')"
   ]
  },
  {
   "cell_type": "markdown",
   "metadata": {},
   "source": [
    "5) Faça um programa que leia as duas notas de um aluno em uma matéria e mostre na tela a sua média na disciplina.  \n",
    "Ex:  \n",
    "Nota 1: 4.5  \n",
    "Nota 2: 8.5  \n",
    "A média entre 4.5 e 8.5 é igual a 6.5  "
   ]
  },
  {
   "cell_type": "code",
   "execution_count": 46,
   "metadata": {},
   "outputs": [
    {
     "name": "stdout",
     "output_type": "stream",
     "text": [
      "Your average score is 6.5\n"
     ]
    }
   ],
   "source": [
    "score_one = 4.5 #np.random.randint(1, 10)\n",
    "score_two = 8.5\n",
    "average = (score_one + score_two) / 2\n",
    "print(f'Your average score is {average}')"
   ]
  },
  {
   "cell_type": "markdown",
   "metadata": {},
   "source": [
    "6) Faça um programa que leia um número inteiro e mostre o seu antecessor e seu sucessor.  \n",
    "Ex:  \n",
    "Digite um número: 9  \n",
    "O antecessor de 9 é 8  \n",
    "O sucessor de 9 é 10  "
   ]
  },
  {
   "cell_type": "code",
   "execution_count": 25,
   "metadata": {},
   "outputs": [
    {
     "data": {
      "text/plain": [
       "3"
      ]
     },
     "execution_count": 25,
     "metadata": {},
     "output_type": "execute_result"
    }
   ],
   "source": []
  }
 ],
 "metadata": {
  "kernelspec": {
   "display_name": "Python 3",
   "language": "python",
   "name": "python3"
  },
  "language_info": {
   "codemirror_mode": {
    "name": "ipython",
    "version": 3
   },
   "file_extension": ".py",
   "mimetype": "text/x-python",
   "name": "python",
   "nbconvert_exporter": "python",
   "pygments_lexer": "ipython3",
   "version": "3.12.2"
  }
 },
 "nbformat": 4,
 "nbformat_minor": 2
}
